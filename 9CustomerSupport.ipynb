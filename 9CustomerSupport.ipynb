{
  "nbformat": 4,
  "nbformat_minor": 0,
  "metadata": {
    "colab": {
      "provenance": []
    },
    "kernelspec": {
      "name": "python3",
      "display_name": "Python 3"
    },
    "language_info": {
      "name": "python"
    }
  },
  "cells": [
    {
      "cell_type": "code",
      "execution_count": 2,
      "metadata": {
        "id": "ket4E9-XvhB6"
      },
      "outputs": [],
      "source": [
        "import nltk\n",
        "from nltk.tokenize import word_tokenize\n",
        "from difflib import SequenceMatcher\n",
        "from nltk.corpus import stopwords\n",
        "from sklearn.metrics import precision_score, recall_score, f1_score\n",
        "import numpy as np\n",
        "import editdistance"
      ]
    },
    {
      "cell_type": "code",
      "source": [
        "nltk.download('punkt')\n",
        "nltk.download('stopwords')"
      ],
      "metadata": {
        "colab": {
          "base_uri": "https://localhost:8080/",
          "height": 0
        },
        "id": "N7hi9jbXw-gZ",
        "outputId": "f6c3f903-756e-4bd7-83c7-36e440f42c19"
      },
      "execution_count": 3,
      "outputs": [
        {
          "output_type": "stream",
          "name": "stderr",
          "text": [
            "[nltk_data] Downloading package punkt to /root/nltk_data...\n",
            "[nltk_data]   Unzipping tokenizers/punkt.zip.\n",
            "[nltk_data] Downloading package stopwords to /root/nltk_data...\n",
            "[nltk_data]   Unzipping corpora/stopwords.zip.\n"
          ]
        },
        {
          "output_type": "execute_result",
          "data": {
            "text/plain": [
              "True"
            ]
          },
          "metadata": {},
          "execution_count": 3
        }
      ]
    },
    {
      "cell_type": "code",
      "source": [
        "def preprocess_text(text):\n",
        "    text = text.lower()  # Convert to lowercase\n",
        "    tokens = word_tokenize(text)  # Tokenize\n",
        "    stop_words = set(stopwords.words('english'))  # Remove stopwords\n",
        "    filtered_tokens = [word for word in tokens if word.isalnum() and word not in stop_words]\n",
        "    return filtered_tokens"
      ],
      "metadata": {
        "id": "dWk4F5T7w_8O"
      },
      "execution_count": 4,
      "outputs": []
    },
    {
      "cell_type": "code",
      "source": [
        "def calculate_similarity(text1, text2):\n",
        "    matcher = SequenceMatcher(None, text1, text2)\n",
        "    return matcher.ratio()"
      ],
      "metadata": {
        "id": "SZdhp4sZxEZ7"
      },
      "execution_count": 5,
      "outputs": []
    },
    {
      "cell_type": "code",
      "source": [
        "# Function to calculate word-level accuracy using Levenshtein distance\n",
        "def calculate_word_accuracy(reference, candidate):\n",
        "    # Tokenize and preprocess the reference and candidate texts\n",
        "    reference_tokens = preprocess_text(reference)\n",
        "    candidate_tokens = preprocess_text(candidate)\n",
        "    distance = editdistance.eval(reference_tokens, candidate_tokens)\n",
        "    max_len = max(len(reference_tokens), len(candidate_tokens))\n",
        "\n",
        "    # Accuracy score based on edit distance\n",
        "    accuracy = 1 - (distance / max_len) if max_len > 0 else 0\n",
        "    return accuracy"
      ],
      "metadata": {
        "id": "oEuDAC6lxG37"
      },
      "execution_count": 7,
      "outputs": []
    },
    {
      "cell_type": "code",
      "source": [
        "dataset = [\n",
        "    {\n",
        "        \"script\": \"Hello, this is John from XYZ Insurance. I am calling to explain our new life insurance policy which offers great benefits like coverage for accidental death, critical illness, and whole life coverage.\",\n",
        "        \"transcribed_text\": \"Hello, this is John from XYZ Insurance. I am calling to explain our new life insurance policy which provides coverage for accidental death, critical illness, and whole life coverage.\"\n",
        "    },\n",
        "    {\n",
        "        \"script\": \"Our health insurance plan offers comprehensive coverage including hospital stays, emergency care, and prescription drugs.\",\n",
        "        \"transcribed_text\": \"Our health insurance plan covers hospital stays, emergency care, and prescription medications.\"\n",
        "    },\n",
        "    {\n",
        "        \"script\": \"Thank you for choosing ABC Telecom. Our new unlimited data plan is now available for just $50 a month.\",\n",
        "        \"transcribed_text\": \"Thank you for selecting ABC Telecom. The unlimited data plan is now just $50 a month.\"\n",
        "    }\n",
        "]"
      ],
      "metadata": {
        "id": "I_oru4uCxIsq"
      },
      "execution_count": 8,
      "outputs": []
    },
    {
      "cell_type": "code",
      "source": [
        "for i, data in enumerate(dataset):\n",
        "    script = data[\"script\"]\n",
        "    transcribed_text = data[\"transcribed_text\"]\n",
        "\n",
        "    # Preprocess texts\n",
        "    script_tokens = preprocess_text(script)\n",
        "    transcribed_tokens = preprocess_text(transcribed_text)\n",
        "\n",
        "    # Calculate similarity and accuracy\n",
        "    similarity = calculate_similarity(script, transcribed_text)\n",
        "    accuracy = calculate_word_accuracy(script, transcribed_text)\n",
        "\n",
        "    # Generate quality report\n",
        "    report = {\n",
        "        'Total Script Words': len(script_tokens),\n",
        "        'Transcribed Words': len(transcribed_tokens),\n",
        "        'Similarity Score': round(similarity, 3),\n",
        "        'Accuracy Score (Levenshtein-based)': round(accuracy, 3),\n",
        "        'Deviation (%)': round(100 - (accuracy * 100), 2),\n",
        "    }\n",
        "\n",
        "    # Print the quality report\n",
        "    print(f\"\\nQuality Report for Script {i + 1}:\")\n",
        "    for key, value in report.items():\n",
        "        print(f\"{key}: {value}\")"
      ],
      "metadata": {
        "colab": {
          "base_uri": "https://localhost:8080/",
          "height": 0
        },
        "id": "pKLaxivoxOEl",
        "outputId": "377201e0-de61-439f-f1ce-2c38241a174b"
      },
      "execution_count": 9,
      "outputs": [
        {
          "output_type": "stream",
          "name": "stdout",
          "text": [
            "\n",
            "Quality Report for Script 1:\n",
            "Total Script Words: 22\n",
            "Transcribed Words: 19\n",
            "Similarity Score: 0.927\n",
            "Accuracy Score (Levenshtein-based): 0.818\n",
            "Deviation (%): 18.18\n",
            "\n",
            "Quality Report for Script 2:\n",
            "Total Script Words: 13\n",
            "Transcribed Words: 10\n",
            "Similarity Score: 0.781\n",
            "Accuracy Score (Levenshtein-based): 0.615\n",
            "Deviation (%): 38.46\n",
            "\n",
            "Quality Report for Script 3:\n",
            "Total Script Words: 11\n",
            "Transcribed Words: 9\n",
            "Similarity Score: 0.834\n",
            "Accuracy Score (Levenshtein-based): 0.727\n",
            "Deviation (%): 27.27\n"
          ]
        }
      ]
    },
    {
      "cell_type": "code",
      "source": [],
      "metadata": {
        "id": "uiIPWZsCxSJt"
      },
      "execution_count": null,
      "outputs": []
    }
  ]
}